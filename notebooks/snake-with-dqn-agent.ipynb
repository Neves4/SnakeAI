{
  "nbformat": 4,
  "nbformat_minor": 0,
  "metadata": {
    "colab": {
      "name": "SnakeAI - DQN",
      "version": "0.3.2",
      "provenance": [],
      "include_colab_link": true
    },
    "kernelspec": {
      "name": "python3",
      "display_name": "Python 3"
    }
  },
  "cells": [
    {
      "cell_type": "markdown",
      "metadata": {
        "id": "view-in-github",
        "colab_type": "text"
      },
      "source": [
        "<a href=\"https://colab.research.google.com/github/Neves4/SnakeAI/blob/master/notebooks/SnakeAI_DQN.ipynb\" target=\"_parent\"><img src=\"https://colab.research.google.com/assets/colab-badge.svg\" alt=\"Open In Colab\"/></a>"
      ]
    },
    {
      "metadata": {
        "id": "J7tURWxCmJHG",
        "colab_type": "text"
      },
      "cell_type": "markdown",
      "source": [
        "SnakeAI\n",
        "================="
      ]
    },
    {
      "metadata": {
        "id": "fRsGcv_InURF",
        "colab_type": "text"
      },
      "cell_type": "markdown",
      "source": [
        "### A snake game with human and AI players (DQN, ACER). Who wins? 🎱\n",
        "\n",
        "This is the notebook for the repository [SnakeAI](https://github.com/Neves4/SnakeAI), in which you could test the execution with GPU/CPU in Keras for a DQN model playing the snake game. \n",
        "\n",
        "Let's begin!"
      ]
    },
    {
      "metadata": {
        "id": "QCus5J_6muj5",
        "colab_type": "text"
      },
      "cell_type": "markdown",
      "source": [
        "Table of contents\n",
        "=================\n",
        "\n",
        "\n",
        "\n",
        "\n",
        "\n"
      ]
    },
    {
      "metadata": {
        "id": "zkdghiysnQwn",
        "colab_type": "text"
      },
      "cell_type": "markdown",
      "source": [
        "[1. The game](#the-game)"
      ]
    },
    {
      "metadata": {
        "id": "l3kYGkQ0ncwi",
        "colab_type": "text"
      },
      "cell_type": "markdown",
      "source": [
        "## 1. The game <a name=\"the-game\"></a>"
      ]
    },
    {
      "metadata": {
        "id": "9buEp2SJnu8y",
        "colab_type": "code",
        "colab": {}
      },
      "cell_type": "code",
      "source": [
        ""
      ],
      "execution_count": 0,
      "outputs": []
    }
  ]
}